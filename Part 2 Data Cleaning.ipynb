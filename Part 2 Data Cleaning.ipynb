{
 "cells": [
  {
   "cell_type": "markdown",
   "metadata": {},
   "source": [
    "# Part 2: Data cleaning"
   ]
  },
  {
   "cell_type": "markdown",
   "metadata": {},
   "source": [
    "This notebook shows the approaches for treating missing data for furture analysis and modeling\n",
    "1. Combined all scraped files into one dataframe and check missing values\n",
    "2. Drop and compute missing values for each variable\n",
    "    * **Drop** variables that are not meaningful,duplicates\n",
    "    * **Correct** outliers due to data error\n",
    "    * **Impute** using only the target variable non-missing values \n",
    "    * **Impute** the target variable missing values using other related variables\n",
    "\n"
   ]
  },
  {
   "cell_type": "code",
   "execution_count": 3,
   "metadata": {},
   "outputs": [],
   "source": [
    "import pandas as pd\n",
    "import numpy as np\n",
    "import seaborn as sns\n",
    "import matplotlib.pyplot as plt\n",
    "%matplotlib inline\n",
    "import re\n",
    "import glob\n",
    "import warnings\n",
    "warnings.filterwarnings(\"ignore\")\n",
    "pd.set_option('display.max_columns', 30)"
   ]
  },
  {
   "cell_type": "code",
   "execution_count": 4,
   "metadata": {},
   "outputs": [
    {
     "data": {
      "text/plain": [
       "['zillow-78613-sold.csv',\n",
       " 'zillow-78641-sold.csv',\n",
       " 'zillow-78660-sold.csv',\n",
       " 'zillow-78664-sold.csv']"
      ]
     },
     "execution_count": 4,
     "metadata": {},
     "output_type": "execute_result"
    }
   ],
   "source": [
    "#Find all sold files\n",
    "soldfiles=glob.glob(\"*sold.csv\")\n",
    "soldfiles"
   ]
  },
  {
   "cell_type": "code",
   "execution_count": 10,
   "metadata": {},
   "outputs": [
    {
     "name": "stdout",
     "output_type": "stream",
     "text": [
      "(5617, 22)\n"
     ]
    },
    {
     "data": {
      "text/html": [
       "<div>\n",
       "<style scoped>\n",
       "    .dataframe tbody tr th:only-of-type {\n",
       "        vertical-align: middle;\n",
       "    }\n",
       "\n",
       "    .dataframe tbody tr th {\n",
       "        vertical-align: top;\n",
       "    }\n",
       "\n",
       "    .dataframe thead th {\n",
       "        text-align: right;\n",
       "    }\n",
       "</style>\n",
       "<table border=\"1\" class=\"dataframe\">\n",
       "  <thead>\n",
       "    <tr style=\"text-align: right;\">\n",
       "      <th></th>\n",
       "      <th>Unnamed: 0</th>\n",
       "      <th>beds</th>\n",
       "      <th>baths</th>\n",
       "      <th>sqft</th>\n",
       "      <th>solddate</th>\n",
       "      <th>soldprice</th>\n",
       "      <th>estimateprice</th>\n",
       "      <th>housetype</th>\n",
       "      <th>YearBuilt</th>\n",
       "      <th>Heating</th>\n",
       "      <th>Cooling</th>\n",
       "      <th>parking</th>\n",
       "      <th>lotsize</th>\n",
       "      <th>name</th>\n",
       "      <th>numberOfRooms</th>\n",
       "      <th>streetAddress</th>\n",
       "      <th>addressLocality</th>\n",
       "      <th>addressRegion</th>\n",
       "      <th>postalCode</th>\n",
       "      <th>latitude</th>\n",
       "      <th>longitude</th>\n",
       "      <th>houseurl</th>\n",
       "    </tr>\n",
       "  </thead>\n",
       "  <tbody>\n",
       "    <tr>\n",
       "      <th>0</th>\n",
       "      <td>0.0</td>\n",
       "      <td>3.0</td>\n",
       "      <td>2.0</td>\n",
       "      <td>1478.0</td>\n",
       "      <td>4/22/2019</td>\n",
       "      <td>224778.0</td>\n",
       "      <td>243589.0</td>\n",
       "      <td>Single Family</td>\n",
       "      <td>2000</td>\n",
       "      <td>Other</td>\n",
       "      <td>Central</td>\n",
       "      <td>2</td>\n",
       "      <td>5662.0</td>\n",
       "      <td>702 Le Ann Ln, Cedar Park, TX 78613</td>\n",
       "      <td>3.0</td>\n",
       "      <td>702 Le Ann Ln</td>\n",
       "      <td>Cedar Park</td>\n",
       "      <td>TX</td>\n",
       "      <td>78613</td>\n",
       "      <td>30.518779</td>\n",
       "      <td>-97.817411</td>\n",
       "      <td>https://www.zillow.com/homedetails/702-Le-Ann-...</td>\n",
       "    </tr>\n",
       "    <tr>\n",
       "      <th>1</th>\n",
       "      <td>1.0</td>\n",
       "      <td>4.0</td>\n",
       "      <td>2.5</td>\n",
       "      <td>2665.0</td>\n",
       "      <td>4/12/2019</td>\n",
       "      <td>250000.0</td>\n",
       "      <td>257730.0</td>\n",
       "      <td>Single Family</td>\n",
       "      <td>2000</td>\n",
       "      <td>Forced air</td>\n",
       "      <td>Central</td>\n",
       "      <td>1</td>\n",
       "      <td>8276.0</td>\n",
       "      <td>2605 Byfield Dr, Cedar Park, TX 78613</td>\n",
       "      <td>4.0</td>\n",
       "      <td>2605 Byfield Dr</td>\n",
       "      <td>Cedar Park</td>\n",
       "      <td>TX</td>\n",
       "      <td>78613</td>\n",
       "      <td>30.540536</td>\n",
       "      <td>-97.845924</td>\n",
       "      <td>https://www.zillow.com/homedetails/2605-Byfiel...</td>\n",
       "    </tr>\n",
       "    <tr>\n",
       "      <th>2</th>\n",
       "      <td>2.0</td>\n",
       "      <td>3.0</td>\n",
       "      <td>3.0</td>\n",
       "      <td>2255.0</td>\n",
       "      <td>4/5/2019</td>\n",
       "      <td>269000.0</td>\n",
       "      <td>270245.0</td>\n",
       "      <td>Single Family</td>\n",
       "      <td>2000</td>\n",
       "      <td>Forced air, Other</td>\n",
       "      <td>Central</td>\n",
       "      <td>2</td>\n",
       "      <td>7666.0</td>\n",
       "      <td>1622 Abbey Ln, Cedar Park, TX 78613</td>\n",
       "      <td>3.0</td>\n",
       "      <td>1622 Abbey Ln</td>\n",
       "      <td>Cedar Park</td>\n",
       "      <td>TX</td>\n",
       "      <td>78613</td>\n",
       "      <td>30.522559</td>\n",
       "      <td>-97.854897</td>\n",
       "      <td>https://www.zillow.com/homedetails/1622-Abbey-...</td>\n",
       "    </tr>\n",
       "  </tbody>\n",
       "</table>\n",
       "</div>"
      ],
      "text/plain": [
       "   Unnamed: 0  beds  baths    sqft   solddate  soldprice  estimateprice  \\\n",
       "0         0.0   3.0    2.0  1478.0  4/22/2019   224778.0       243589.0   \n",
       "1         1.0   4.0    2.5  2665.0  4/12/2019   250000.0       257730.0   \n",
       "2         2.0   3.0    3.0  2255.0   4/5/2019   269000.0       270245.0   \n",
       "\n",
       "       housetype  YearBuilt            Heating  Cooling parking  lotsize  \\\n",
       "0  Single Family       2000              Other  Central       2   5662.0   \n",
       "1  Single Family       2000         Forced air  Central       1   8276.0   \n",
       "2  Single Family       2000  Forced air, Other  Central       2   7666.0   \n",
       "\n",
       "                                    name  numberOfRooms    streetAddress  \\\n",
       "0    702 Le Ann Ln, Cedar Park, TX 78613            3.0    702 Le Ann Ln   \n",
       "1  2605 Byfield Dr, Cedar Park, TX 78613            4.0  2605 Byfield Dr   \n",
       "2    1622 Abbey Ln, Cedar Park, TX 78613            3.0    1622 Abbey Ln   \n",
       "\n",
       "  addressLocality addressRegion  postalCode   latitude  longitude  \\\n",
       "0      Cedar Park            TX       78613  30.518779 -97.817411   \n",
       "1      Cedar Park            TX       78613  30.540536 -97.845924   \n",
       "2      Cedar Park            TX       78613  30.522559 -97.854897   \n",
       "\n",
       "                                            houseurl  \n",
       "0  https://www.zillow.com/homedetails/702-Le-Ann-...  \n",
       "1  https://www.zillow.com/homedetails/2605-Byfiel...  \n",
       "2  https://www.zillow.com/homedetails/1622-Abbey-...  "
      ]
     },
     "execution_count": 10,
     "metadata": {},
     "output_type": "execute_result"
    }
   ],
   "source": [
    "#Combine all sold files to one dataframe\n",
    "df = pd.concat([pd.read_csv(i) for i in soldfiles ],sort=False,ignore_index=True)\n",
    "print(df.shape)\n",
    "df.head(3)"
   ]
  },
  {
   "cell_type": "code",
   "execution_count": 11,
   "metadata": {},
   "outputs": [
    {
     "data": {
      "text/plain": [
       "Unnamed: 0         4392\n",
       "beds                577\n",
       "baths                93\n",
       "sqft                  9\n",
       "solddate              0\n",
       "soldprice           167\n",
       "estimateprice        92\n",
       "housetype             0\n",
       "YearBuilt             0\n",
       "Heating               0\n",
       "Cooling               0\n",
       "parking               0\n",
       "lotsize             606\n",
       "name                  0\n",
       "numberOfRooms       324\n",
       "streetAddress         0\n",
       "addressLocality       0\n",
       "addressRegion         0\n",
       "postalCode            0\n",
       "latitude              0\n",
       "longitude             0\n",
       "houseurl              0\n",
       "dtype: int64"
      ]
     },
     "execution_count": 11,
     "metadata": {},
     "output_type": "execute_result"
    }
   ],
   "source": [
    "(df.isna()).sum()"
   ]
  },
  {
   "cell_type": "markdown",
   "metadata": {},
   "source": [
    "# soldprice\n",
    "We first drop columns that are not needed. We also have to drop observations that don't have sold price since we will use it to analyze with other variables. The missing values of sold price is also low, so it is safe to drop."
   ]
  },
  {
   "cell_type": "code",
   "execution_count": 12,
   "metadata": {},
   "outputs": [],
   "source": [
    "df=df.drop(['Unnamed: 0',\"estimateprice\"],axis=1)\n",
    "df=df[~df.soldprice.isna()]\n",
    "df.reset_index(inplace = True, drop = True)"
   ]
  },
  {
   "cell_type": "markdown",
   "metadata": {},
   "source": [
    "## Sqft\n",
    "There are 9 missing data from **sqft**. The dataframe below shows that we also have missing data from other variable when sqft is missing. We will simply drop the missing value since we need to use this to impute other missing variables"
   ]
  },
  {
   "cell_type": "code",
   "execution_count": 14,
   "metadata": {
    "scrolled": true
   },
   "outputs": [
    {
     "data": {
      "text/html": [
       "<div>\n",
       "<style scoped>\n",
       "    .dataframe tbody tr th:only-of-type {\n",
       "        vertical-align: middle;\n",
       "    }\n",
       "\n",
       "    .dataframe tbody tr th {\n",
       "        vertical-align: top;\n",
       "    }\n",
       "\n",
       "    .dataframe thead th {\n",
       "        text-align: right;\n",
       "    }\n",
       "</style>\n",
       "<table border=\"1\" class=\"dataframe\">\n",
       "  <thead>\n",
       "    <tr style=\"text-align: right;\">\n",
       "      <th></th>\n",
       "      <th>beds</th>\n",
       "      <th>baths</th>\n",
       "      <th>sqft</th>\n",
       "      <th>solddate</th>\n",
       "      <th>soldprice</th>\n",
       "      <th>housetype</th>\n",
       "      <th>YearBuilt</th>\n",
       "      <th>Heating</th>\n",
       "      <th>Cooling</th>\n",
       "      <th>parking</th>\n",
       "      <th>lotsize</th>\n",
       "      <th>name</th>\n",
       "      <th>numberOfRooms</th>\n",
       "      <th>streetAddress</th>\n",
       "      <th>addressLocality</th>\n",
       "      <th>addressRegion</th>\n",
       "      <th>postalCode</th>\n",
       "      <th>latitude</th>\n",
       "      <th>longitude</th>\n",
       "      <th>houseurl</th>\n",
       "    </tr>\n",
       "  </thead>\n",
       "  <tbody>\n",
       "    <tr>\n",
       "      <th>767</th>\n",
       "      <td>3.0</td>\n",
       "      <td>NaN</td>\n",
       "      <td>NaN</td>\n",
       "      <td>7/21/2016</td>\n",
       "      <td>247000.0</td>\n",
       "      <td>Single Family</td>\n",
       "      <td>2009</td>\n",
       "      <td>Forced air</td>\n",
       "      <td>No Data</td>\n",
       "      <td>2</td>\n",
       "      <td>6534.00</td>\n",
       "      <td>1911 Sand Creek Rd, Cedar Park, TX 78613</td>\n",
       "      <td>3.0</td>\n",
       "      <td>1911 Sand Creek Rd</td>\n",
       "      <td>Cedar Park</td>\n",
       "      <td>TX</td>\n",
       "      <td>78613</td>\n",
       "      <td>30.520134</td>\n",
       "      <td>-97.795066</td>\n",
       "      <td>https://www.zillow.com/homedetails/1911-Sand-C...</td>\n",
       "    </tr>\n",
       "    <tr>\n",
       "      <th>1153</th>\n",
       "      <td>NaN</td>\n",
       "      <td>NaN</td>\n",
       "      <td>NaN</td>\n",
       "      <td>6/19/2018</td>\n",
       "      <td>539900.0</td>\n",
       "      <td>Single Family</td>\n",
       "      <td>2017</td>\n",
       "      <td>Other</td>\n",
       "      <td>Central</td>\n",
       "      <td>No Data</td>\n",
       "      <td>NaN</td>\n",
       "      <td>309 Parke Wind Way, Cedar Park, TX 78613</td>\n",
       "      <td>0.0</td>\n",
       "      <td>309 Parke Wind Way</td>\n",
       "      <td>Cedar Park</td>\n",
       "      <td>TX</td>\n",
       "      <td>78613</td>\n",
       "      <td>30.504828</td>\n",
       "      <td>-97.846678</td>\n",
       "      <td>https://www.zillow.com/homedetails/309-Parke-W...</td>\n",
       "    </tr>\n",
       "    <tr>\n",
       "      <th>1964</th>\n",
       "      <td>4.0</td>\n",
       "      <td>3.0</td>\n",
       "      <td>NaN</td>\n",
       "      <td>5/24/2017</td>\n",
       "      <td>245652.0</td>\n",
       "      <td>Single Family</td>\n",
       "      <td>2009</td>\n",
       "      <td>Electric</td>\n",
       "      <td>No Data</td>\n",
       "      <td>2</td>\n",
       "      <td>5000.00</td>\n",
       "      <td>796 Kingfisher Ln, Leander, TX 78641</td>\n",
       "      <td>4.0</td>\n",
       "      <td>796 Kingfisher Ln</td>\n",
       "      <td>Leander</td>\n",
       "      <td>TX</td>\n",
       "      <td>78641</td>\n",
       "      <td>30.631102</td>\n",
       "      <td>-97.873208</td>\n",
       "      <td>https://www.zillow.com/homedetails/796-Kingfis...</td>\n",
       "    </tr>\n",
       "    <tr>\n",
       "      <th>2862</th>\n",
       "      <td>NaN</td>\n",
       "      <td>NaN</td>\n",
       "      <td>NaN</td>\n",
       "      <td>8/13/2018</td>\n",
       "      <td>310000.0</td>\n",
       "      <td>Single Family</td>\n",
       "      <td>2017</td>\n",
       "      <td>Other</td>\n",
       "      <td>Central</td>\n",
       "      <td>No Data</td>\n",
       "      <td>NaN</td>\n",
       "      <td>200 Allegrini St, Leander, TX 78641</td>\n",
       "      <td>NaN</td>\n",
       "      <td>200 Allegrini St</td>\n",
       "      <td>Leander</td>\n",
       "      <td>TX</td>\n",
       "      <td>78641</td>\n",
       "      <td>30.567123</td>\n",
       "      <td>-97.885847</td>\n",
       "      <td>https://www.zillow.com/homedetails/200-Allegri...</td>\n",
       "    </tr>\n",
       "    <tr>\n",
       "      <th>2873</th>\n",
       "      <td>NaN</td>\n",
       "      <td>NaN</td>\n",
       "      <td>NaN</td>\n",
       "      <td>6/14/2018</td>\n",
       "      <td>436947.0</td>\n",
       "      <td>Single Family</td>\n",
       "      <td>2017</td>\n",
       "      <td>Other</td>\n",
       "      <td>Central</td>\n",
       "      <td>No Data</td>\n",
       "      <td>0.27</td>\n",
       "      <td>2429 Adriel Cv, Leander, TX 78641</td>\n",
       "      <td>NaN</td>\n",
       "      <td>2429 Adriel Cv</td>\n",
       "      <td>Leander</td>\n",
       "      <td>TX</td>\n",
       "      <td>78641</td>\n",
       "      <td>30.599296</td>\n",
       "      <td>-97.818128</td>\n",
       "      <td>https://www.zillow.com/homedetails/2429-Adriel...</td>\n",
       "    </tr>\n",
       "    <tr>\n",
       "      <th>2874</th>\n",
       "      <td>NaN</td>\n",
       "      <td>NaN</td>\n",
       "      <td>NaN</td>\n",
       "      <td>6/8/2018</td>\n",
       "      <td>234539.0</td>\n",
       "      <td>Single Family</td>\n",
       "      <td>2017</td>\n",
       "      <td>Other</td>\n",
       "      <td>Central</td>\n",
       "      <td>No Data</td>\n",
       "      <td>NaN</td>\n",
       "      <td>249 Trellis Blvd, Leander, TX 78641</td>\n",
       "      <td>0.0</td>\n",
       "      <td>249 Trellis Blvd</td>\n",
       "      <td>Leander</td>\n",
       "      <td>TX</td>\n",
       "      <td>78641</td>\n",
       "      <td>30.634505</td>\n",
       "      <td>-97.863316</td>\n",
       "      <td>https://www.zillow.com/homedetails/249-Trellis...</td>\n",
       "    </tr>\n",
       "    <tr>\n",
       "      <th>2883</th>\n",
       "      <td>NaN</td>\n",
       "      <td>NaN</td>\n",
       "      <td>NaN</td>\n",
       "      <td>5/21/2018</td>\n",
       "      <td>61130.0</td>\n",
       "      <td>Single Family</td>\n",
       "      <td>2017</td>\n",
       "      <td>Other</td>\n",
       "      <td>Central</td>\n",
       "      <td>No Data</td>\n",
       "      <td>NaN</td>\n",
       "      <td>144 Syrah Ct, Leander, TX 78641</td>\n",
       "      <td>0.0</td>\n",
       "      <td>144 Syrah Ct</td>\n",
       "      <td>Leander</td>\n",
       "      <td>TX</td>\n",
       "      <td>78641</td>\n",
       "      <td>30.634642</td>\n",
       "      <td>-97.863902</td>\n",
       "      <td>https://www.zillow.com/homedetails/144-Syrah-C...</td>\n",
       "    </tr>\n",
       "    <tr>\n",
       "      <th>2904</th>\n",
       "      <td>NaN</td>\n",
       "      <td>NaN</td>\n",
       "      <td>NaN</td>\n",
       "      <td>4/1/2018</td>\n",
       "      <td>69813.0</td>\n",
       "      <td>Single Family</td>\n",
       "      <td>2017</td>\n",
       "      <td>Other</td>\n",
       "      <td>Central</td>\n",
       "      <td>No Data</td>\n",
       "      <td>NaN</td>\n",
       "      <td>141 Hopen Cv, Leander, TX 78641</td>\n",
       "      <td>0.0</td>\n",
       "      <td>141 Hopen Cv</td>\n",
       "      <td>Leander</td>\n",
       "      <td>TX</td>\n",
       "      <td>78641</td>\n",
       "      <td>30.622704</td>\n",
       "      <td>-97.868795</td>\n",
       "      <td>https://www.zillow.com/homedetails/141-Hopen-C...</td>\n",
       "    </tr>\n",
       "    <tr>\n",
       "      <th>3018</th>\n",
       "      <td>NaN</td>\n",
       "      <td>6.0</td>\n",
       "      <td>NaN</td>\n",
       "      <td>9/28/2017</td>\n",
       "      <td>837229.0</td>\n",
       "      <td>Single Family</td>\n",
       "      <td>2017</td>\n",
       "      <td>No Data</td>\n",
       "      <td>Central</td>\n",
       "      <td>3</td>\n",
       "      <td>NaN</td>\n",
       "      <td>2113 Milan Meadows Dr, Leander, TX 78641</td>\n",
       "      <td>NaN</td>\n",
       "      <td>2113 Milan Meadows Dr</td>\n",
       "      <td>Leander</td>\n",
       "      <td>TX</td>\n",
       "      <td>78641</td>\n",
       "      <td>30.530078</td>\n",
       "      <td>-97.908262</td>\n",
       "      <td>https://www.zillow.com/homedetails/2113-Milan-...</td>\n",
       "    </tr>\n",
       "  </tbody>\n",
       "</table>\n",
       "</div>"
      ],
      "text/plain": [
       "      beds  baths  sqft   solddate  soldprice      housetype  YearBuilt  \\\n",
       "767    3.0    NaN   NaN  7/21/2016   247000.0  Single Family       2009   \n",
       "1153   NaN    NaN   NaN  6/19/2018   539900.0  Single Family       2017   \n",
       "1964   4.0    3.0   NaN  5/24/2017   245652.0  Single Family       2009   \n",
       "2862   NaN    NaN   NaN  8/13/2018   310000.0  Single Family       2017   \n",
       "2873   NaN    NaN   NaN  6/14/2018   436947.0  Single Family       2017   \n",
       "2874   NaN    NaN   NaN   6/8/2018   234539.0  Single Family       2017   \n",
       "2883   NaN    NaN   NaN  5/21/2018    61130.0  Single Family       2017   \n",
       "2904   NaN    NaN   NaN   4/1/2018    69813.0  Single Family       2017   \n",
       "3018   NaN    6.0   NaN  9/28/2017   837229.0  Single Family       2017   \n",
       "\n",
       "         Heating  Cooling  parking  lotsize  \\\n",
       "767   Forced air  No Data        2  6534.00   \n",
       "1153       Other  Central  No Data      NaN   \n",
       "1964    Electric  No Data        2  5000.00   \n",
       "2862       Other  Central  No Data      NaN   \n",
       "2873       Other  Central  No Data     0.27   \n",
       "2874       Other  Central  No Data      NaN   \n",
       "2883       Other  Central  No Data      NaN   \n",
       "2904       Other  Central  No Data      NaN   \n",
       "3018     No Data  Central        3      NaN   \n",
       "\n",
       "                                          name  numberOfRooms  \\\n",
       "767   1911 Sand Creek Rd, Cedar Park, TX 78613            3.0   \n",
       "1153  309 Parke Wind Way, Cedar Park, TX 78613            0.0   \n",
       "1964      796 Kingfisher Ln, Leander, TX 78641            4.0   \n",
       "2862       200 Allegrini St, Leander, TX 78641            NaN   \n",
       "2873         2429 Adriel Cv, Leander, TX 78641            NaN   \n",
       "2874       249 Trellis Blvd, Leander, TX 78641            0.0   \n",
       "2883           144 Syrah Ct, Leander, TX 78641            0.0   \n",
       "2904           141 Hopen Cv, Leander, TX 78641            0.0   \n",
       "3018  2113 Milan Meadows Dr, Leander, TX 78641            NaN   \n",
       "\n",
       "              streetAddress addressLocality addressRegion  postalCode  \\\n",
       "767      1911 Sand Creek Rd      Cedar Park            TX       78613   \n",
       "1153     309 Parke Wind Way      Cedar Park            TX       78613   \n",
       "1964      796 Kingfisher Ln         Leander            TX       78641   \n",
       "2862       200 Allegrini St         Leander            TX       78641   \n",
       "2873         2429 Adriel Cv         Leander            TX       78641   \n",
       "2874       249 Trellis Blvd         Leander            TX       78641   \n",
       "2883           144 Syrah Ct         Leander            TX       78641   \n",
       "2904           141 Hopen Cv         Leander            TX       78641   \n",
       "3018  2113 Milan Meadows Dr         Leander            TX       78641   \n",
       "\n",
       "       latitude  longitude                                           houseurl  \n",
       "767   30.520134 -97.795066  https://www.zillow.com/homedetails/1911-Sand-C...  \n",
       "1153  30.504828 -97.846678  https://www.zillow.com/homedetails/309-Parke-W...  \n",
       "1964  30.631102 -97.873208  https://www.zillow.com/homedetails/796-Kingfis...  \n",
       "2862  30.567123 -97.885847  https://www.zillow.com/homedetails/200-Allegri...  \n",
       "2873  30.599296 -97.818128  https://www.zillow.com/homedetails/2429-Adriel...  \n",
       "2874  30.634505 -97.863316  https://www.zillow.com/homedetails/249-Trellis...  \n",
       "2883  30.634642 -97.863902  https://www.zillow.com/homedetails/144-Syrah-C...  \n",
       "2904  30.622704 -97.868795  https://www.zillow.com/homedetails/141-Hopen-C...  \n",
       "3018  30.530078 -97.908262  https://www.zillow.com/homedetails/2113-Milan-...  "
      ]
     },
     "execution_count": 14,
     "metadata": {},
     "output_type": "execute_result"
    }
   ],
   "source": [
    "df[df.sqft.isna()]"
   ]
  },
  {
   "cell_type": "code",
   "execution_count": 15,
   "metadata": {},
   "outputs": [],
   "source": [
    "df=df[~df.sqft.isna()]\n",
    "df.reset_index(inplace = True, drop = True)"
   ]
  },
  {
   "cell_type": "markdown",
   "metadata": {},
   "source": [
    "We check houses that under 1000 sqft and found some houses with only 1 sqft. We corrected it if we have the correct values, otherwise we just drop it."
   ]
  },
  {
   "cell_type": "code",
   "execution_count": 18,
   "metadata": {},
   "outputs": [
    {
     "data": {
      "text/html": [
       "<div>\n",
       "<style scoped>\n",
       "    .dataframe tbody tr th:only-of-type {\n",
       "        vertical-align: middle;\n",
       "    }\n",
       "\n",
       "    .dataframe tbody tr th {\n",
       "        vertical-align: top;\n",
       "    }\n",
       "\n",
       "    .dataframe thead th {\n",
       "        text-align: right;\n",
       "    }\n",
       "</style>\n",
       "<table border=\"1\" class=\"dataframe\">\n",
       "  <thead>\n",
       "    <tr style=\"text-align: right;\">\n",
       "      <th></th>\n",
       "      <th>beds</th>\n",
       "      <th>baths</th>\n",
       "      <th>sqft</th>\n",
       "      <th>solddate</th>\n",
       "      <th>soldprice</th>\n",
       "      <th>housetype</th>\n",
       "      <th>YearBuilt</th>\n",
       "      <th>Heating</th>\n",
       "      <th>Cooling</th>\n",
       "      <th>parking</th>\n",
       "      <th>lotsize</th>\n",
       "      <th>name</th>\n",
       "      <th>numberOfRooms</th>\n",
       "      <th>streetAddress</th>\n",
       "      <th>addressLocality</th>\n",
       "      <th>addressRegion</th>\n",
       "      <th>postalCode</th>\n",
       "      <th>latitude</th>\n",
       "      <th>longitude</th>\n",
       "      <th>houseurl</th>\n",
       "    </tr>\n",
       "  </thead>\n",
       "  <tbody>\n",
       "    <tr>\n",
       "      <th>3002</th>\n",
       "      <td>NaN</td>\n",
       "      <td>NaN</td>\n",
       "      <td>1.0</td>\n",
       "      <td>10/6/2017</td>\n",
       "      <td>379990.0</td>\n",
       "      <td>Miscellaneous</td>\n",
       "      <td>2017</td>\n",
       "      <td>Other</td>\n",
       "      <td>None</td>\n",
       "      <td>2</td>\n",
       "      <td>NaN</td>\n",
       "      <td>929 Mckavitt Dr, Leander, TX 78641</td>\n",
       "      <td>0.0</td>\n",
       "      <td>929 Mckavitt Dr</td>\n",
       "      <td>Leander</td>\n",
       "      <td>TX</td>\n",
       "      <td>78641</td>\n",
       "      <td>30.573400</td>\n",
       "      <td>-97.835156</td>\n",
       "      <td>https://www.zillow.com/homedetails/929-Mckavit...</td>\n",
       "    </tr>\n",
       "    <tr>\n",
       "      <th>3175</th>\n",
       "      <td>4.0</td>\n",
       "      <td>2.5</td>\n",
       "      <td>1.0</td>\n",
       "      <td>5/9/2018</td>\n",
       "      <td>195293.0</td>\n",
       "      <td>Single Family</td>\n",
       "      <td>2018</td>\n",
       "      <td>Other</td>\n",
       "      <td>Central</td>\n",
       "      <td>2</td>\n",
       "      <td>NaN</td>\n",
       "      <td>1141 Peregrine Way, Leander, TX 78641</td>\n",
       "      <td>4.0</td>\n",
       "      <td>1141 Peregrine Way</td>\n",
       "      <td>Leander</td>\n",
       "      <td>TX</td>\n",
       "      <td>78641</td>\n",
       "      <td>30.558426</td>\n",
       "      <td>-97.865868</td>\n",
       "      <td>https://www.zillow.com/homedetails/1141-Peregr...</td>\n",
       "    </tr>\n",
       "    <tr>\n",
       "      <th>4997</th>\n",
       "      <td>2.0</td>\n",
       "      <td>2.0</td>\n",
       "      <td>996.0</td>\n",
       "      <td>1/5/2017</td>\n",
       "      <td>154403.0</td>\n",
       "      <td>Single Family</td>\n",
       "      <td>2000</td>\n",
       "      <td>Other</td>\n",
       "      <td>Central</td>\n",
       "      <td>1</td>\n",
       "      <td>3920.0</td>\n",
       "      <td>1544 Parkfield Cir, Round Rock, TX 78664</td>\n",
       "      <td>2.0</td>\n",
       "      <td>1544 Parkfield Cir</td>\n",
       "      <td>Round Rock</td>\n",
       "      <td>TX</td>\n",
       "      <td>78664</td>\n",
       "      <td>30.490656</td>\n",
       "      <td>-97.659289</td>\n",
       "      <td>https://www.zillow.com/homedetails/1544-Parkfi...</td>\n",
       "    </tr>\n",
       "  </tbody>\n",
       "</table>\n",
       "</div>"
      ],
      "text/plain": [
       "      beds  baths   sqft   solddate  soldprice      housetype  YearBuilt  \\\n",
       "3002   NaN    NaN    1.0  10/6/2017   379990.0  Miscellaneous       2017   \n",
       "3175   4.0    2.5    1.0   5/9/2018   195293.0  Single Family       2018   \n",
       "4997   2.0    2.0  996.0   1/5/2017   154403.0  Single Family       2000   \n",
       "\n",
       "     Heating  Cooling parking  lotsize  \\\n",
       "3002   Other     None       2      NaN   \n",
       "3175   Other  Central       2      NaN   \n",
       "4997   Other  Central       1   3920.0   \n",
       "\n",
       "                                          name  numberOfRooms  \\\n",
       "3002        929 Mckavitt Dr, Leander, TX 78641            0.0   \n",
       "3175     1141 Peregrine Way, Leander, TX 78641            4.0   \n",
       "4997  1544 Parkfield Cir, Round Rock, TX 78664            2.0   \n",
       "\n",
       "           streetAddress addressLocality addressRegion  postalCode   latitude  \\\n",
       "3002     929 Mckavitt Dr         Leander            TX       78641  30.573400   \n",
       "3175  1141 Peregrine Way         Leander            TX       78641  30.558426   \n",
       "4997  1544 Parkfield Cir      Round Rock            TX       78664  30.490656   \n",
       "\n",
       "      longitude                                           houseurl  \n",
       "3002 -97.835156  https://www.zillow.com/homedetails/929-Mckavit...  \n",
       "3175 -97.865868  https://www.zillow.com/homedetails/1141-Peregr...  \n",
       "4997 -97.659289  https://www.zillow.com/homedetails/1544-Parkfi...  "
      ]
     },
     "execution_count": 18,
     "metadata": {},
     "output_type": "execute_result"
    }
   ],
   "source": [
    "df[df.sqft<1000]"
   ]
  },
  {
   "cell_type": "code",
   "execution_count": 19,
   "metadata": {},
   "outputs": [],
   "source": [
    "df.loc[df.index==3175,'sqft']=2596\n",
    "df=df.drop(3002,axis=0)\n",
    "df.reset_index(inplace = True, drop = True)"
   ]
  },
  {
   "cell_type": "markdown",
   "metadata": {},
   "source": [
    "## Bathrooms\n",
    "Before computing the missing values, we first rounded the bathroom values that are not interger nor or halfs.\n",
    "We then compute the missing bathrooms by choosing its closest sqft."
   ]
  },
  {
   "cell_type": "code",
   "execution_count": 22,
   "metadata": {},
   "outputs": [
    {
     "data": {
      "text/plain": [
       "2.00    1971\n",
       "3.00    1435\n",
       "2.50     890\n",
       "4.00     591\n",
       "3.50     307\n",
       "5.00      79\n",
       "4.50      55\n",
       "5.50       7\n",
       "7.00       6\n",
       "6.00       6\n",
       "2.10       2\n",
       "3.10       2\n",
       "4.20       1\n",
       "1.50       1\n",
       "2.25       1\n",
       "2.75       1\n",
       "Name: baths, dtype: int64"
      ]
     },
     "execution_count": 22,
     "metadata": {},
     "output_type": "execute_result"
    }
   ],
   "source": [
    "df.baths.value_counts()"
   ]
  },
  {
   "cell_type": "code",
   "execution_count": 23,
   "metadata": {},
   "outputs": [],
   "source": [
    "for i in df[df.baths.isin([2.10,3.10,4.20,2.25,2.75])].index:\n",
    "    df.loc[df.index == i, 'baths']=round(df.loc[df.index == i, 'baths'])"
   ]
  },
  {
   "cell_type": "code",
   "execution_count": 24,
   "metadata": {},
   "outputs": [
    {
     "data": {
      "text/html": [
       "<div>\n",
       "<style scoped>\n",
       "    .dataframe tbody tr th:only-of-type {\n",
       "        vertical-align: middle;\n",
       "    }\n",
       "\n",
       "    .dataframe tbody tr th {\n",
       "        vertical-align: top;\n",
       "    }\n",
       "\n",
       "    .dataframe thead th {\n",
       "        text-align: right;\n",
       "    }\n",
       "</style>\n",
       "<table border=\"1\" class=\"dataframe\">\n",
       "  <thead>\n",
       "    <tr style=\"text-align: right;\">\n",
       "      <th></th>\n",
       "      <th>sqft</th>\n",
       "    </tr>\n",
       "    <tr>\n",
       "      <th>baths</th>\n",
       "      <th></th>\n",
       "    </tr>\n",
       "  </thead>\n",
       "  <tbody>\n",
       "    <tr>\n",
       "      <th>1.5</th>\n",
       "      <td>1096.0</td>\n",
       "    </tr>\n",
       "    <tr>\n",
       "      <th>2.0</th>\n",
       "      <td>1834.0</td>\n",
       "    </tr>\n",
       "    <tr>\n",
       "      <th>2.5</th>\n",
       "      <td>2397.0</td>\n",
       "    </tr>\n",
       "    <tr>\n",
       "      <th>3.0</th>\n",
       "      <td>2643.5</td>\n",
       "    </tr>\n",
       "    <tr>\n",
       "      <th>3.5</th>\n",
       "      <td>3406.0</td>\n",
       "    </tr>\n",
       "    <tr>\n",
       "      <th>4.0</th>\n",
       "      <td>3575.5</td>\n",
       "    </tr>\n",
       "    <tr>\n",
       "      <th>4.5</th>\n",
       "      <td>4125.0</td>\n",
       "    </tr>\n",
       "    <tr>\n",
       "      <th>5.0</th>\n",
       "      <td>4272.0</td>\n",
       "    </tr>\n",
       "    <tr>\n",
       "      <th>5.5</th>\n",
       "      <td>4295.0</td>\n",
       "    </tr>\n",
       "    <tr>\n",
       "      <th>6.0</th>\n",
       "      <td>4690.0</td>\n",
       "    </tr>\n",
       "    <tr>\n",
       "      <th>7.0</th>\n",
       "      <td>5182.5</td>\n",
       "    </tr>\n",
       "  </tbody>\n",
       "</table>\n",
       "</div>"
      ],
      "text/plain": [
       "         sqft\n",
       "baths        \n",
       "1.5    1096.0\n",
       "2.0    1834.0\n",
       "2.5    2397.0\n",
       "3.0    2643.5\n",
       "3.5    3406.0\n",
       "4.0    3575.5\n",
       "4.5    4125.0\n",
       "5.0    4272.0\n",
       "5.5    4295.0\n",
       "6.0    4690.0\n",
       "7.0    5182.5"
      ]
     },
     "execution_count": 24,
     "metadata": {},
     "output_type": "execute_result"
    }
   ],
   "source": [
    "bathagg=df.groupby(\"baths\").agg({\"sqft\":np.median})\n",
    "bathagg"
   ]
  },
  {
   "cell_type": "code",
   "execution_count": 25,
   "metadata": {},
   "outputs": [],
   "source": [
    "for i in df[df.baths.isna()].index:\n",
    "    minindex = abs(df.loc[df.index == i, 'sqft'].values - bathagg.sqft.values).argmin()\n",
    "    df.loc[df.index == i, 'baths']=bathagg.index[minindex]\n"
   ]
  },
  {
   "cell_type": "markdown",
   "metadata": {},
   "source": [
    "# Bedrooms & number Of Rooms\n",
    "\n",
    "Before computing missing values, we found both bedrooms and number of Rooms show the same value, which means they are duplicates. Thus, we can safely drop number of rooms and keep bedrooms. Then we compute the missing bedsrooms by choosing its closest sqft.\n"
   ]
  },
  {
   "cell_type": "code",
   "execution_count": 28,
   "metadata": {},
   "outputs": [
    {
     "data": {
      "text/html": [
       "<div>\n",
       "<style scoped>\n",
       "    .dataframe tbody tr th:only-of-type {\n",
       "        vertical-align: middle;\n",
       "    }\n",
       "\n",
       "    .dataframe tbody tr th {\n",
       "        vertical-align: top;\n",
       "    }\n",
       "\n",
       "    .dataframe thead th {\n",
       "        text-align: right;\n",
       "    }\n",
       "</style>\n",
       "<table border=\"1\" class=\"dataframe\">\n",
       "  <thead>\n",
       "    <tr style=\"text-align: right;\">\n",
       "      <th></th>\n",
       "      <th>beds</th>\n",
       "      <th>numberOfRooms</th>\n",
       "    </tr>\n",
       "  </thead>\n",
       "  <tbody>\n",
       "    <tr>\n",
       "      <th>0</th>\n",
       "      <td>3.0</td>\n",
       "      <td>3.0</td>\n",
       "    </tr>\n",
       "    <tr>\n",
       "      <th>1</th>\n",
       "      <td>4.0</td>\n",
       "      <td>4.0</td>\n",
       "    </tr>\n",
       "    <tr>\n",
       "      <th>2</th>\n",
       "      <td>3.0</td>\n",
       "      <td>3.0</td>\n",
       "    </tr>\n",
       "    <tr>\n",
       "      <th>3</th>\n",
       "      <td>3.0</td>\n",
       "      <td>3.0</td>\n",
       "    </tr>\n",
       "    <tr>\n",
       "      <th>4</th>\n",
       "      <td>5.0</td>\n",
       "      <td>5.0</td>\n",
       "    </tr>\n",
       "  </tbody>\n",
       "</table>\n",
       "</div>"
      ],
      "text/plain": [
       "   beds  numberOfRooms\n",
       "0   3.0            3.0\n",
       "1   4.0            4.0\n",
       "2   3.0            3.0\n",
       "3   3.0            3.0\n",
       "4   5.0            5.0"
      ]
     },
     "execution_count": 28,
     "metadata": {},
     "output_type": "execute_result"
    }
   ],
   "source": [
    "df.loc[:,[\"beds\",\"numberOfRooms\"]].head()"
   ]
  },
  {
   "cell_type": "code",
   "execution_count": 29,
   "metadata": {},
   "outputs": [],
   "source": [
    "df=df.drop(\"numberOfRooms\",axis=1)"
   ]
  },
  {
   "cell_type": "code",
   "execution_count": 30,
   "metadata": {},
   "outputs": [
    {
     "data": {
      "text/html": [
       "<div>\n",
       "<style scoped>\n",
       "    .dataframe tbody tr th:only-of-type {\n",
       "        vertical-align: middle;\n",
       "    }\n",
       "\n",
       "    .dataframe tbody tr th {\n",
       "        vertical-align: top;\n",
       "    }\n",
       "\n",
       "    .dataframe thead th {\n",
       "        text-align: right;\n",
       "    }\n",
       "</style>\n",
       "<table border=\"1\" class=\"dataframe\">\n",
       "  <thead>\n",
       "    <tr style=\"text-align: right;\">\n",
       "      <th></th>\n",
       "      <th>sqft</th>\n",
       "    </tr>\n",
       "    <tr>\n",
       "      <th>beds</th>\n",
       "      <th></th>\n",
       "    </tr>\n",
       "  </thead>\n",
       "  <tbody>\n",
       "    <tr>\n",
       "      <th>2.0</th>\n",
       "      <td>1289.0</td>\n",
       "    </tr>\n",
       "    <tr>\n",
       "      <th>3.0</th>\n",
       "      <td>1824.0</td>\n",
       "    </tr>\n",
       "    <tr>\n",
       "      <th>4.0</th>\n",
       "      <td>2669.0</td>\n",
       "    </tr>\n",
       "    <tr>\n",
       "      <th>5.0</th>\n",
       "      <td>3621.0</td>\n",
       "    </tr>\n",
       "    <tr>\n",
       "      <th>6.0</th>\n",
       "      <td>3999.5</td>\n",
       "    </tr>\n",
       "    <tr>\n",
       "      <th>7.0</th>\n",
       "      <td>4782.0</td>\n",
       "    </tr>\n",
       "  </tbody>\n",
       "</table>\n",
       "</div>"
      ],
      "text/plain": [
       "        sqft\n",
       "beds        \n",
       "2.0   1289.0\n",
       "3.0   1824.0\n",
       "4.0   2669.0\n",
       "5.0   3621.0\n",
       "6.0   3999.5\n",
       "7.0   4782.0"
      ]
     },
     "execution_count": 30,
     "metadata": {},
     "output_type": "execute_result"
    }
   ],
   "source": [
    "bedsagg=df.groupby(\"beds\").agg({\"sqft\":np.median})\n",
    "bedsagg"
   ]
  },
  {
   "cell_type": "code",
   "execution_count": 31,
   "metadata": {},
   "outputs": [],
   "source": [
    "for i in df[df.beds.isna()].index:\n",
    "    minindex = abs(df.loc[df.index == i, 'sqft'].values - bedsagg.sqft.values).argmin()\n",
    "    df.loc[df.index == i, 'beds']=bedsagg.index[minindex]"
   ]
  },
  {
   "cell_type": "markdown",
   "metadata": {},
   "source": [
    "# Lot size\n",
    "\n",
    "Before computing missing values, lotsize stats shows that it has extremely high and low values, which need to be checked. We corrected these unlikely values if we are able to find correct values, and dropped those values that are due to **data error**. For example, we found there are many values of <5 are actually in **units of acre,rather than sqft**. Finally, the missing values are computed using **median**."
   ]
  },
  {
   "cell_type": "code",
   "execution_count": 33,
   "metadata": {},
   "outputs": [
    {
     "data": {
      "text/plain": [
       "count    4.889000e+03\n",
       "mean     7.553163e+03\n",
       "std      7.221603e+04\n",
       "min      1.100000e-01\n",
       "25%      5.662000e+03\n",
       "50%      7.187000e+03\n",
       "75%      8.407000e+03\n",
       "max      4.929944e+06\n",
       "Name: lotsize, dtype: float64"
      ]
     },
     "execution_count": 33,
     "metadata": {},
     "output_type": "execute_result"
    }
   ],
   "source": [
    "df.lotsize.describe()"
   ]
  },
  {
   "cell_type": "code",
   "execution_count": 35,
   "metadata": {},
   "outputs": [
    {
     "data": {
      "text/html": [
       "<div>\n",
       "<style scoped>\n",
       "    .dataframe tbody tr th:only-of-type {\n",
       "        vertical-align: middle;\n",
       "    }\n",
       "\n",
       "    .dataframe tbody tr th {\n",
       "        vertical-align: top;\n",
       "    }\n",
       "\n",
       "    .dataframe thead th {\n",
       "        text-align: right;\n",
       "    }\n",
       "</style>\n",
       "<table border=\"1\" class=\"dataframe\">\n",
       "  <thead>\n",
       "    <tr style=\"text-align: right;\">\n",
       "      <th></th>\n",
       "      <th>beds</th>\n",
       "      <th>baths</th>\n",
       "      <th>sqft</th>\n",
       "      <th>solddate</th>\n",
       "      <th>soldprice</th>\n",
       "      <th>housetype</th>\n",
       "      <th>YearBuilt</th>\n",
       "      <th>Heating</th>\n",
       "      <th>Cooling</th>\n",
       "      <th>parking</th>\n",
       "      <th>lotsize</th>\n",
       "      <th>name</th>\n",
       "      <th>streetAddress</th>\n",
       "      <th>addressLocality</th>\n",
       "      <th>addressRegion</th>\n",
       "      <th>postalCode</th>\n",
       "      <th>latitude</th>\n",
       "      <th>longitude</th>\n",
       "      <th>houseurl</th>\n",
       "    </tr>\n",
       "  </thead>\n",
       "  <tbody>\n",
       "    <tr>\n",
       "      <th>2200</th>\n",
       "      <td>3.0</td>\n",
       "      <td>3.0</td>\n",
       "      <td>3371.0</td>\n",
       "      <td>1/5/2018</td>\n",
       "      <td>693536.0</td>\n",
       "      <td>Single Family</td>\n",
       "      <td>2013</td>\n",
       "      <td>Other</td>\n",
       "      <td>Central</td>\n",
       "      <td>4</td>\n",
       "      <td>4929944.0</td>\n",
       "      <td>1809 High Lonesome, Leander, TX 78641</td>\n",
       "      <td>1809 High Lonesome</td>\n",
       "      <td>Leander</td>\n",
       "      <td>TX</td>\n",
       "      <td>78641</td>\n",
       "      <td>30.54375</td>\n",
       "      <td>-97.90039</td>\n",
       "      <td>https://www.zillow.com/homedetails/1809-High-L...</td>\n",
       "    </tr>\n",
       "  </tbody>\n",
       "</table>\n",
       "</div>"
      ],
      "text/plain": [
       "      beds  baths    sqft  solddate  soldprice      housetype  YearBuilt  \\\n",
       "2200   3.0    3.0  3371.0  1/5/2018   693536.0  Single Family       2013   \n",
       "\n",
       "     Heating  Cooling parking    lotsize  \\\n",
       "2200   Other  Central       4  4929944.0   \n",
       "\n",
       "                                       name       streetAddress  \\\n",
       "2200  1809 High Lonesome, Leander, TX 78641  1809 High Lonesome   \n",
       "\n",
       "     addressLocality addressRegion  postalCode  latitude  longitude  \\\n",
       "2200         Leander            TX       78641  30.54375  -97.90039   \n",
       "\n",
       "                                               houseurl  \n",
       "2200  https://www.zillow.com/homedetails/1809-High-L...  "
      ]
     },
     "execution_count": 35,
     "metadata": {},
     "output_type": "execute_result"
    }
   ],
   "source": [
    "df.iloc[[df.lotsize.idxmax()]]"
   ]
  },
  {
   "cell_type": "code",
   "execution_count": 36,
   "metadata": {},
   "outputs": [],
   "source": [
    "df.loc[df.lotsize==df.lotsize.max(),\"lotsize\"]=2.02#acre "
   ]
  },
  {
   "cell_type": "code",
   "execution_count": 37,
   "metadata": {
    "scrolled": true
   },
   "outputs": [
    {
     "data": {
      "text/plain": [
       "1459    975.000\n",
       "2104    960.000\n",
       "2065    826.000\n",
       "582     151.000\n",
       "2029     60.000\n",
       "1084     60.000\n",
       "423      50.000\n",
       "3566     23.000\n",
       "2429     17.000\n",
       "1662     11.600\n",
       "1529      7.000\n",
       "2439      6.140\n",
       "1639      6.000\n",
       "2554      6.000\n",
       "1268      5.810\n",
       "1592      5.440\n",
       "1574      5.260\n",
       "1789      5.070\n",
       "3663      5.000\n",
       "1357      5.000\n",
       "1215      5.000\n",
       "1432      5.000\n",
       "1270      4.960\n",
       "2132      4.810\n",
       "1715      4.730\n",
       "1843      4.610\n",
       "2004      4.480\n",
       "1695      4.440\n",
       "1451      4.140\n",
       "1299      4.010\n",
       "         ...   \n",
       "3408      0.250\n",
       "3431      0.250\n",
       "4571      0.250\n",
       "432       0.250\n",
       "3615      0.250\n",
       "4613      0.250\n",
       "473       0.250\n",
       "4762      0.250\n",
       "1279      0.250\n",
       "1552      0.250\n",
       "4507      0.250\n",
       "3260      0.250\n",
       "3156      0.250\n",
       "509       0.250\n",
       "315       0.250\n",
       "3109      0.250\n",
       "3125      0.250\n",
       "3228      0.250\n",
       "637       0.250\n",
       "325       0.250\n",
       "5083      0.250\n",
       "5080      0.250\n",
       "3182      0.250\n",
       "3200      0.250\n",
       "3983      0.250\n",
       "1869      0.250\n",
       "488       0.220\n",
       "956       0.190\n",
       "5286      0.165\n",
       "280       0.110\n",
       "Name: lotsize, Length: 779, dtype: float64"
      ]
     },
     "execution_count": 37,
     "metadata": {},
     "output_type": "execute_result"
    }
   ],
   "source": [
    "#check lotsize under 1000 sqft\n",
    "df.lotsize[df.lotsize<1000].sort_values(ascending=False)"
   ]
  },
  {
   "cell_type": "code",
   "execution_count": 38,
   "metadata": {},
   "outputs": [],
   "source": [
    "#check until acre>5\n",
    "df.loc[df.index==1459,\"lotsize\"]=9736\n",
    "df.loc[df.index==2104,\"lotsize\"]=5314\n",
    "df.loc[df.index==2065,\"lotsize\"]=5179\n",
    "df.loc[df.index==582,\"lotsize\"]=6597\n",
    "df.loc[df.index==2029,\"lotsize\"]=7199\n",
    "df.loc[df.index==1084,\"lotsize\"]=8799\n",
    "df.loc[df.index==423,\"lotsize\"]=6181\n",
    "df.loc[df.index==3566,\"lotsize\"]=10267\n",
    "df.loc[df.index==2429,\"lotsize\"]=1.73\n",
    "df.loc[df.index==2554,\"lotsize\"]=9583 "
   ]
  },
  {
   "cell_type": "code",
   "execution_count": 41,
   "metadata": {},
   "outputs": [],
   "source": [
    "#corrected the unit from acre to sqft\n",
    "df[\"lotsize1\"]=df.lotsize\n",
    "df[\"lotsize1\"][df.lotsize<1000]=df.lotsize[df.lotsize<1000]*43560\n",
    "df=df.drop(\"lotsize\",axis=1)"
   ]
  },
  {
   "cell_type": "code",
   "execution_count": 42,
   "metadata": {},
   "outputs": [
    {
     "data": {
      "text/plain": [
       "count    4.889000e+03\n",
       "mean     1.120385e+04\n",
       "std      2.446134e+04\n",
       "min      1.095000e+03\n",
       "25%      6.621000e+03\n",
       "50%      7.840000e+03\n",
       "75%      9.522000e+03\n",
       "max      1.106424e+06\n",
       "Name: lotsize1, dtype: float64"
      ]
     },
     "execution_count": 42,
     "metadata": {},
     "output_type": "execute_result"
    }
   ],
   "source": [
    "df.lotsize1.describe()"
   ]
  },
  {
   "cell_type": "code",
   "execution_count": 43,
   "metadata": {},
   "outputs": [],
   "source": [
    "#Corrected data error of 11,064.24 acres\n",
    "df.lotsize1[df.lotsize1>1000000]\n",
    "df.loc[df.index==3875,\"lotsize1\"]=0.25*43560"
   ]
  },
  {
   "cell_type": "code",
   "execution_count": 44,
   "metadata": {},
   "outputs": [
    {
     "data": {
      "text/plain": [
       "count      4889.000000\n",
       "mean      10979.773385\n",
       "std       18785.865893\n",
       "min        1095.000000\n",
       "25%        6621.000000\n",
       "50%        7840.000000\n",
       "75%        9522.000000\n",
       "max      505296.000000\n",
       "Name: lotsize1, dtype: float64"
      ]
     },
     "execution_count": 44,
     "metadata": {},
     "output_type": "execute_result"
    }
   ],
   "source": [
    "df.lotsize1.describe()"
   ]
  },
  {
   "cell_type": "code",
   "execution_count": 48,
   "metadata": {},
   "outputs": [
    {
     "name": "stdout",
     "output_type": "stream",
     "text": [
      "Lotsize missing data: 10.0%\n"
     ]
    }
   ],
   "source": [
    "print (\"Lotsize missing data: {}%\".format(round((df.lotsize1.isna()).sum()/len(df.lotsize1),2)*100))"
   ]
  },
  {
   "cell_type": "code",
   "execution_count": 49,
   "metadata": {},
   "outputs": [],
   "source": [
    "#Compute using median\n",
    "df.lotsize1[df.lotsize1.isna()]=df.lotsize1.median()"
   ]
  },
  {
   "cell_type": "code",
   "execution_count": 51,
   "metadata": {},
   "outputs": [
    {
     "data": {
      "text/plain": [
       "beds               0\n",
       "baths              0\n",
       "sqft               0\n",
       "solddate           0\n",
       "soldprice          0\n",
       "housetype          0\n",
       "YearBuilt          0\n",
       "Heating            0\n",
       "Cooling            0\n",
       "parking            0\n",
       "name               0\n",
       "streetAddress      0\n",
       "addressLocality    0\n",
       "addressRegion      0\n",
       "postalCode         0\n",
       "latitude           0\n",
       "longitude          0\n",
       "houseurl           0\n",
       "lotsize1           0\n",
       "dtype: int64"
      ]
     },
     "execution_count": 51,
     "metadata": {},
     "output_type": "execute_result"
    }
   ],
   "source": [
    "(df.isna()).sum()"
   ]
  },
  {
   "cell_type": "markdown",
   "metadata": {},
   "source": [
    "# Sold Price\n",
    "Although there is no missing value found in soldprice, we can from below that we have both extremely high and low values. Soldprices under 150k and above 1000k due to data error were dropped ."
   ]
  },
  {
   "cell_type": "code",
   "execution_count": 52,
   "metadata": {},
   "outputs": [
    {
     "data": {
      "text/plain": [
       "count    5.440000e+03\n",
       "mean     3.104395e+05\n",
       "std      1.306900e+05\n",
       "min      1.000000e+00\n",
       "25%      2.328648e+05\n",
       "50%      2.766705e+05\n",
       "75%      3.600000e+05\n",
       "max      2.415000e+06\n",
       "Name: soldprice, dtype: float64"
      ]
     },
     "execution_count": 52,
     "metadata": {},
     "output_type": "execute_result"
    }
   ],
   "source": [
    "df.soldprice.describe()"
   ]
  },
  {
   "cell_type": "code",
   "execution_count": 59,
   "metadata": {},
   "outputs": [],
   "source": [
    "df=df.drop(df[df.soldprice<150000].index)#under $150k due to data error\n",
    "df=df.drop(1718) #above $1000k due to data error"
   ]
  },
  {
   "cell_type": "code",
   "execution_count": 61,
   "metadata": {},
   "outputs": [
    {
     "data": {
      "text/plain": [
       "(5308, 19)"
      ]
     },
     "execution_count": 61,
     "metadata": {},
     "output_type": "execute_result"
    }
   ],
   "source": [
    "df.shape"
   ]
  },
  {
   "cell_type": "markdown",
   "metadata": {},
   "source": [
    "# Save data for next part\n",
    "Finally, we dropped url that won't be need later and double checked we don't have missing values. We saved the data for the next part."
   ]
  },
  {
   "cell_type": "code",
   "execution_count": 64,
   "metadata": {},
   "outputs": [],
   "source": [
    "df_clean=df.drop([\"houseurl\"],axis=1)"
   ]
  },
  {
   "cell_type": "code",
   "execution_count": 65,
   "metadata": {},
   "outputs": [
    {
     "data": {
      "text/plain": [
       "beds               0\n",
       "baths              0\n",
       "sqft               0\n",
       "solddate           0\n",
       "soldprice          0\n",
       "housetype          0\n",
       "YearBuilt          0\n",
       "Heating            0\n",
       "Cooling            0\n",
       "parking            0\n",
       "name               0\n",
       "streetAddress      0\n",
       "addressLocality    0\n",
       "addressRegion      0\n",
       "postalCode         0\n",
       "latitude           0\n",
       "longitude          0\n",
       "houseurl           0\n",
       "lotsize1           0\n",
       "dtype: int64"
      ]
     },
     "execution_count": 65,
     "metadata": {},
     "output_type": "execute_result"
    }
   ],
   "source": [
    "(df.isna()).sum()"
   ]
  },
  {
   "cell_type": "code",
   "execution_count": 66,
   "metadata": {},
   "outputs": [],
   "source": [
    "df_clean.to_csv(\"df_clean.csv\",index=False)"
   ]
  }
 ],
 "metadata": {
  "kernelspec": {
   "display_name": "Python 3",
   "language": "python",
   "name": "python3"
  },
  "language_info": {
   "codemirror_mode": {
    "name": "ipython",
    "version": 3
   },
   "file_extension": ".py",
   "mimetype": "text/x-python",
   "name": "python",
   "nbconvert_exporter": "python",
   "pygments_lexer": "ipython3",
   "version": "3.7.1"
  }
 },
 "nbformat": 4,
 "nbformat_minor": 2
}
